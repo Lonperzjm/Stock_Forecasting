{
 "cells": [
  {
   "cell_type": "markdown",
   "metadata": {},
   "source": [
    "## Statistics_Analyzer\n",
    "This part of code we're gonna to achieve the following goals:\n",
    "1. Calculate the Other Day Yield of the selected 10 stocks in a month.\n",
    "2. To calculate the peerson correlation coefficient between the any 2 stocks' Other Day Yield.\n",
    "3. To forecast the ClosingPrice-Date curve of the selected stock.\n",
    "\n",
    "And I'll construct it in this high-level structure:\n",
    "```mermaid\n",
    "graph LR\n",
    "A[Data Selector] --> B[ODY Calculator]\n",
    "B --> C[Correlation Calculator]\n",
    "A --> D[Data Forecaster]\n",
    "```\n",
    "\n",
    "Where Data Selector is not combined in this file. "
   ]
  },
  {
   "cell_type": "code",
   "execution_count": null,
   "metadata": {
    "vscode": {
     "languageId": "plaintext"
    }
   },
   "outputs": [],
   "source": []
  }
 ],
 "metadata": {
  "language_info": {
   "name": "python"
  }
 },
 "nbformat": 4,
 "nbformat_minor": 2
}
