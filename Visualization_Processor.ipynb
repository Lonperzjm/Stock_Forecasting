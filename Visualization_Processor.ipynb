{
 "cells": [
  {
   "cell_type": "markdown",
   "metadata": {},
   "source": [
    "# Visualization Processor\n",
    "This part we try to get the wanted data from the dataset and, after basic calculation, visualize it.\n",
    "1. Visualize stock prices (20 points)\n",
    "2. Correlation coefficient calculation and heat map display (20 points)\n",
    "3. Predict price changes and display them (10 points) (only includes \"display\")\n",
    "   * For the reason that we try to use a small MLP to forecast the price-date relation, which is to complex to be contained in this part.\n",
    "\n",
    "\n",
    "* 不要尝试纠正我的英语语法喵，怕尴尬的谢谢喵😋"
   ]
  },
  {
   "cell_type": "markdown",
   "metadata": {},
   "source": [
    "```mermaid\n",
    "graph LR\n",
    "A[Build dictionary]-->B[Get wanted data 'SZ.xxxxxx YYYY-MM']-->C[Draw the k-line chart]-->D[Integrated k-line chart function]"
   ]
  },
  {
   "cell_type": "markdown",
   "metadata": {},
   "source": [
    "#### import the necessary library"
   ]
  },
  {
   "cell_type": "code",
   "execution_count": 513,
   "metadata": {},
   "outputs": [],
   "source": [
    "import matplotlib.pyplot as plt\n",
    "import pandas as pd\n",
    "import matplotlib.dates as mdates"
   ]
  },
  {
   "cell_type": "markdown",
   "metadata": {},
   "source": [
    "#### build the library of stock data"
   ]
  },
  {
   "cell_type": "code",
   "execution_count": 514,
   "metadata": {},
   "outputs": [],
   "source": [
    "\n",
    "def build_dictionary(file_name):\n",
    "    index_dict = {}\n",
    "    with open(file_name, 'r') as index_file:\n",
    "        for line in index_file:\n",
    "            parts = line.strip().split(',')\n",
    "            stock_code = parts[0]\n",
    "            month = parts[1]\n",
    "            offset = int(parts[2])\n",
    "            if stock_code not in index_dict:\n",
    "                index_dict[stock_code] = {}\n",
    "            index_dict[stock_code][month] = offset\n",
    "    # print(index_dict)\n",
    "    return index_dict\n"
   ]
  },
  {
   "cell_type": "markdown",
   "metadata": {},
   "source": [
    "#### get the data of a certain month for a certain stock"
   ]
  },
  {
   "cell_type": "code",
   "execution_count": 515,
   "metadata": {},
   "outputs": [],
   "source": [
    "def get_stock_data_range(stock_code, month, index_dict, output_file_path):\n",
    "    if stock_code in index_dict and month in index_dict[stock_code]:\n",
    "        # print('Found stock code and month in index dictionary')\n",
    "        offset = index_dict[stock_code][month]\n",
    "        # print('Offset:', offset)\n",
    "        with open(output_file_path, 'r') as output_file:\n",
    "            # print('Reading data from file:', output_file_path)\n",
    "            # 移动文件指针到指定偏移量\n",
    "            output_file.seek(offset)\n",
    "            # 读取并存储当前股票和月份的数据行\n",
    "            data_lines = []\n",
    "            while True:\n",
    "                data_line = output_file.readline()\n",
    "                # print(data_line)\n",
    "                if not data_line:\n",
    "                    break\n",
    "                parts = data_line.strip().split(',')\n",
    "                current_code = parts[0]\n",
    "                current_date = parts[1]\n",
    "                current_month = current_date[:7]\n",
    "\n",
    "                # 如果遇到不同的股票代码或月份，则停止读取\n",
    "                if current_code != stock_code or current_month != month:\n",
    "                    # print('Different stock code or month:', current_code, current_month)\n",
    "                    break\n",
    "\n",
    "                data_lines.append(data_line.strip())\n",
    "            # print(data_lines)\n",
    "            return data_lines\n",
    "    else:\n",
    "        return None\n",
    "\n"
   ]
  },
  {
   "cell_type": "code",
   "execution_count": 516,
   "metadata": {},
   "outputs": [],
   "source": [
    "# index_dict=build_dictionary('./Data_Frame/index.txt')\n",
    "# a = get_stock_data_range('000001.SZ', '2000-12', index_dict, './Data_Frame/output.txt')\n"
   ]
  },
  {
   "cell_type": "markdown",
   "metadata": {},
   "source": [
    "#### draw the k-line chart"
   ]
  },
  {
   "cell_type": "code",
   "execution_count": 517,
   "metadata": {},
   "outputs": [],
   "source": [
    "\n",
    "\n",
    "def plot_k_line(stock_data, stock_code, month):\n",
    "    # 处理数据，将字符串转换为DataFrame\n",
    "    data = [line.split(',') for line in stock_data]\n",
    "    columns = ['ts_code', 'trade_date', 'open', 'high', 'low', 'close', 'pre_close', 'change', 'pct_chg', 'vol', 'amount']\n",
    "    df = pd.DataFrame(data, columns=columns)\n",
    "    \n",
    "    # 将字符串类型的数值列转换为浮点型\n",
    "    df[['open', 'high', 'low', 'close', 'pre_close', 'change', 'pct_chg', 'vol', 'amount']] = df[['open', 'high', 'low', 'close', 'pre_close', 'change', 'pct_chg', 'vol', 'amount']].astype(float)\n",
    "    \n",
    "    # 将交易日期转换为datetime类型\n",
    "    df['trade_date'] = pd.to_datetime(df['trade_date'])\n",
    "    \n",
    "    # 按照交易日期排序\n",
    "    df = df.sort_values(by='trade_date')\n",
    "    \n",
    "    # 绘制K线图\n",
    "    fig, ax = plt.subplots(figsize=(10, 6))\n",
    "\n",
    "    # 绘制K线图\n",
    "    for index, row in df.iterrows():\n",
    "        color = 'green' if row['close'] >= row['open'] else 'red'\n",
    "        ax.plot([row['trade_date'], row['trade_date']], [row['low'], row['high']], color='black')  # 画最高最低线\n",
    "        ax.plot([row['trade_date'], row['trade_date']], [row['open'], row['close']], color=color, linewidth=5)  # 画开盘收盘线\n",
    "\n",
    "    # 设置x轴为日期格式\n",
    "    ax.xaxis.set_major_formatter(mdates.DateFormatter('%Y-%m-%d'))\n",
    "    ax.xaxis.set_major_locator(mdates.DayLocator(interval=1))\n",
    "    plt.xticks(rotation=45)\n",
    "    \n",
    "    plt.title(f'K-Line Chart for {stock_code} in {month}')\n",
    "    plt.xlabel('Date')\n",
    "    plt.ylabel('Price')\n",
    "    plt.grid(True)\n",
    "    plt.show()\n",
    "\n"
   ]
  },
  {
   "cell_type": "markdown",
   "metadata": {},
   "source": [
    "#### integrated k-line chart function"
   ]
  },
  {
   "cell_type": "code",
   "execution_count": 518,
   "metadata": {},
   "outputs": [],
   "source": [
    "def integrated_k_line_chart(index_file_path, stock_code, month, output_file_path):    \n",
    "    # 调用函数构建字典\n",
    "    index_dict = build_dictionary('./Data_Frame/index.txt')\n",
    "\n",
    "    stock_data_range = get_stock_data_range(stock_code, month, index_dict, output_file_path)\n",
    "    # 调用函数绘制K线图\n",
    "    plot_k_line(stock_data_range, stock_code, month)"
   ]
  },
  {
   "cell_type": "code",
   "execution_count": 519,
   "metadata": {},
   "outputs": [
    {
     "data": {
      "image/png": "[encoded data removed]",
      "text/plain": [
       "<Figure size 1000x600 with 1 Axes>"
      ]
     },
     "metadata": {},
     "output_type": "display_data"
    }
   ],
   "source": [
    "integrated_k_line_chart('./Data_Frame/index.txt', '000011.SZ', '2000-12', './Data_Frame/output.txt')"
   ]
  },
  {
   "cell_type": "markdown",
   "metadata": {},
   "source": [
    "#### Get a series of data locations"
   ]
  }
 ],
 "metadata": {
  "kernelspec": {
   "display_name": "Python 3",
   "language": "python",
   "name": "python3"
  },
  "language_info": {
   "codemirror_mode": {
    "name": "ipython",
    "version": 3
   },
   "file_extension": ".py",
   "mimetype": "text/x-python",
   "name": "python",
   "nbconvert_exporter": "python",
   "pygments_lexer": "ipython3",
   "version": "3.11.9"
  }
 },
 "nbformat": 4,
 "nbformat_minor": 2
}
