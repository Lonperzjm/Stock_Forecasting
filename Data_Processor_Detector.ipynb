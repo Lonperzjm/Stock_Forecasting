{
 "cells": [
  {
   "cell_type": "code",
   "execution_count": 3,
   "metadata": {},
   "outputs": [
    {
     "name": "stdout",
     "output_type": "stream",
     "text": [
      "文字数据量大小: 711 字节\n"
     ]
    }
   ],
   "source": [
    "import sys\n",
    "\n",
    "text = '''ts code,trade date,open,high,low,close,pre close,change,pct chg,vol,amount\n",
    "000001.SZ,2000-09-20,16.38,16.67,16.1,16.52,16.4,0.12,0.73,35194.0,57459.8137\n",
    "000001.SZ,2000-09-21,16.58,16.8,16.27,16.46,16.52,-0.06,-0.36,38490.0,63437.0963\n",
    "000001.SZ,2000-09-22,16.46,16.58,16.21,16.26,16.46,-0.2,-1.22,25148.0,41079.9246\n",
    "000001.SZ,2000-09-25,16.32,16.6,16.32,16.42,16.26,0.16,0.98,20271.0,33271.9046\n",
    "000001.SZ,2000-09-26,16.45,16.79,16.45,16.6,16.42,0.18,1.1,19060.0,31759.8456\n",
    "000001.SZ,2000-09-27,16.65,17.25,16.65,17.07,16.6,0.47,2.83,47383.0,80215.5485\n",
    "000001.SZ,2000-09-28,17.1,17.26,16.86,16.89,17.07,-0.18,-1.05,44541.0,75950.4621\n",
    "000001.SZ,2000-09-29,16.98,17.08,16.9,16.96,16.89,0.07,0.41,19144.0,32513.2916\n",
    "'''\n",
    "\n",
    "# 使用sys.getsizeof测量数据量大小\n",
    "size = len(text.encode('utf-8'))\n",
    "\n",
    "print(f\"文字数据量大小: {size} 字节\")\n"
   ]
  }
 ],
 "metadata": {
  "kernelspec": {
   "display_name": "Python 3",
   "language": "python",
   "name": "python3"
  },
  "language_info": {
   "codemirror_mode": {
    "name": "ipython",
    "version": 3
   },
   "file_extension": ".py",
   "mimetype": "text/x-python",
   "name": "python",
   "nbconvert_exporter": "python",
   "pygments_lexer": "ipython3",
   "version": "3.11.9"
  }
 },
 "nbformat": 4,
 "nbformat_minor": 2
}
