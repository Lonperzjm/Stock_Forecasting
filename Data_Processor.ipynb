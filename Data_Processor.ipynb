{
 "cells": [
  {
   "cell_type": "code",
   "execution_count": 1,
   "metadata": {},
   "outputs": [],
   "source": [
    "import pandas as pd\n",
    "import os\n",
    "import heapq\n",
    "\n"
   ]
  },
  {
   "cell_type": "markdown",
   "metadata": {},
   "source": [
    "#### Split the file and sort the detached files"
   ]
  },
  {
   "cell_type": "code",
   "execution_count": 2,
   "metadata": {},
   "outputs": [],
   "source": [
    "def split_file(input_file, chunk_size):\n",
    "    chunks = []\n",
    "    reader = pd.read_csv(input_file, chunksize=chunk_size)\n",
    "    for i, chunk in enumerate(reader):\n",
    "        chunk_file = f'temp_chunk_{i}.csv'\n",
    "        chunk['trade date'] = pd.to_datetime(chunk['trade date'], format='%Y%m%d')\n",
    "        chunk.sort_values(by=['ts code', 'trade date'], inplace=True)\n",
    "        chunk.to_csv(chunk_file, index=False)\n",
    "        chunks.append(chunk_file)\n",
    "    return chunks\n",
    "\n"
   ]
  },
  {
   "cell_type": "markdown",
   "metadata": {},
   "source": [
    "#### Merge the file and use the multiplexed merge sort method to sort it."
   ]
  },
  {
   "cell_type": "code",
   "execution_count": 3,
   "metadata": {},
   "outputs": [],
   "source": [
    "def merge_files(chunks, output_file):\n",
    "    with open(output_file, 'w', encoding='utf-8') as fout:\n",
    "        files = [open(chunk, 'r', encoding='utf-8') for chunk in chunks]\n",
    "        headers = files[0].readline().strip()\n",
    "        fout.write(headers + '\\n')\n",
    "        for f in files[1:]:\n",
    "            f.readline()\n",
    "\n",
    "        heap = []\n",
    "        for i, f in enumerate(files):\n",
    "            line = f.readline().strip()\n",
    "            if line:\n",
    "                ts_code, trade_date = line.split(',')[:2]\n",
    "                heapq.heappush(heap, (ts_code, trade_date, i, line))\n",
    "\n",
    "        while heap:\n",
    "            _, _, i, line = heapq.heappop(heap)\n",
    "            fout.write(line + '\\n')\n",
    "            line = files[i].readline().strip()\n",
    "            if line:\n",
    "                ts_code, trade_date = line.split(',')[:2]\n",
    "                heapq.heappush(heap, (ts_code, trade_date, i, line))\n",
    "\n",
    "        for f in files:\n",
    "            f.close()\n"
   ]
  },
  {
   "cell_type": "markdown",
   "metadata": {},
   "source": [
    "#### Create index"
   ]
  },
  {
   "cell_type": "code",
   "execution_count": 4,
   "metadata": {},
   "outputs": [],
   "source": [
    "\n",
    "def create_index(output_file, index_file):\n",
    "    with open(output_file, 'r', encoding='utf-8') as f_out, open(index_file, 'w', encoding='utf-8') as f_index:\n",
    "        offset = 0\n",
    "        last_code = None\n",
    "        last_month = None\n",
    "        headers = f_out.readline()\n",
    "        offset += len(headers.encode('utf-8'))\n",
    "        for line in f_out:\n",
    "            current_code, trade_date = line.split(',')[0], line.split(',')[1][:6]\n",
    "            if current_code != last_code or trade_date != last_month:\n",
    "                f_index.write(f'{current_code},{trade_date},{offset}\\n')\n",
    "                last_code = current_code\n",
    "                last_month = trade_date\n",
    "            offset += len(line.encode('utf-8'))\n"
   ]
  },
  {
   "cell_type": "markdown",
   "metadata": {},
   "source": [
    "#### integrated the function"
   ]
  },
  {
   "cell_type": "code",
   "execution_count": 5,
   "metadata": {},
   "outputs": [],
   "source": [
    "\n",
    "def external_sort(input_file, output_file, index_file, chunk_size):\n",
    "    chunks = split_file(input_file, chunk_size)\n",
    "    merge_files(chunks, output_file)\n",
    "    create_index(output_file, index_file)\n",
    "    for chunk in chunks:\n",
    "        os.remove(chunk)\n",
    "\n"
   ]
  },
  {
   "cell_type": "code",
   "execution_count": 6,
   "metadata": {},
   "outputs": [
    {
     "name": "stdout",
     "output_type": "stream",
     "text": [
      "The Ex-Sort Process Has Done\n"
     ]
    }
   ],
   "source": [
    "\n",
    "input_file = 'input.csv'\n",
    "output_file = 'output.txt'\n",
    "index_file = 'index.txt'\n",
    "chunk_size = 1000  \n",
    "\n",
    "external_sort(input_file, output_file, index_file, chunk_size)\n",
    "\n",
    "print(\"The Ex-Sort Process Has Done\")"
   ]
  }
 ],
 "metadata": {
  "kernelspec": {
   "display_name": "Python 3 (ipykernel)",
   "language": "python",
   "name": "python3"
  },
  "language_info": {
   "codemirror_mode": {
    "name": "ipython",
    "version": 3
   },
   "file_extension": ".py",
   "mimetype": "text/x-python",
   "name": "python",
   "nbconvert_exporter": "python",
   "pygments_lexer": "ipython3",
   "version": "3.11.5"
  }
 },
 "nbformat": 4,
 "nbformat_minor": 2
}
